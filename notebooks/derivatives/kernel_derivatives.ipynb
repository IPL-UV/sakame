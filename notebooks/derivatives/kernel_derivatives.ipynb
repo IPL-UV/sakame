{
 "cells": [
  {
   "cell_type": "markdown",
   "metadata": {},
   "source": [
    "# Kernel Functions and Derivatives"
   ]
  },
  {
   "cell_type": "code",
   "execution_count": 1,
   "metadata": {},
   "outputs": [],
   "source": [
    "import numpy as np\n",
    "\n",
    "\n",
    "%load_ext autoreload\n",
    "%autoreload 2"
   ]
  },
  {
   "cell_type": "code",
   "execution_count": null,
   "metadata": {},
   "outputs": [],
   "source": []
  },
  {
   "cell_type": "markdown",
   "metadata": {},
   "source": [
    "## RBF Derivative"
   ]
  },
  {
   "cell_type": "code",
   "execution_count": 1,
   "metadata": {},
   "outputs": [],
   "source": [
    "def rbf_derivative(x_train, x_function, K, weights, length_scale):\n",
    "    \"\"\"The Derivative of the RBF kernel. It returns the \n",
    "    derivative as a 2D matrix.\n",
    "    \n",
    "    Parameters\n",
    "    ----------\n",
    "    xtrain : array, (n_train_samples x d_dimensions)\n",
    "    \n",
    "    xtest : array, (ntest_samples, d_dimensions)\n",
    "    \n",
    "    K : array, (ntest_samples, ntrain_samples)\n",
    "    \n",
    "    weights : array, (ntrain_samples)\n",
    "    \n",
    "    length_scale : float,\n",
    "    \n",
    "    Return\n",
    "    ------\n",
    "    \n",
    "    Derivative : array, (n_test, d_dimensions)\n",
    "    \n",
    "    \"\"\"\n",
    "    n_test, n_dims = x_function.shape\n",
    "\n",
    "    derivative = np.zeros(shape=x_function.shape)\n",
    "\n",
    "    for itest in range(n_test):\n",
    "        t1 = (np.expand_dims(x_function[itest, :], axis=0) - x_train).T\n",
    "        t2 = K[itest, :] * weights.squeeze()\n",
    "        t3 = np.dot(t1, t2)\n",
    "\n",
    "        derivative[itest, :] = t3\n",
    "\n",
    "    derivative *= - 1 / length_scale**2\n",
    "\n",
    "    return derivative"
   ]
  },
  {
   "cell_type": "code",
   "execution_count": null,
   "metadata": {},
   "outputs": [],
   "source": []
  },
  {
   "cell_type": "markdown",
   "metadata": {},
   "source": []
  }
 ],
 "metadata": {
  "kernelspec": {
   "display_name": "Python 3",
   "language": "python",
   "name": "python3"
  },
  "language_info": {
   "codemirror_mode": {
    "name": "ipython",
    "version": 3
   },
   "file_extension": ".py",
   "mimetype": "text/x-python",
   "name": "python",
   "nbconvert_exporter": "python",
   "pygments_lexer": "ipython3",
   "version": "3.7.2"
  }
 },
 "nbformat": 4,
 "nbformat_minor": 2
}
