{
 "cells": [
  {
   "cell_type": "markdown",
   "metadata": {},
   "source": [
    "# Kernel Functions and Derivatives"
   ]
  },
  {
   "cell_type": "code",
   "execution_count": 4,
   "metadata": {},
   "outputs": [
    {
     "name": "stdout",
     "output_type": "stream",
     "text": [
      "The autoreload extension is already loaded. To reload it, use:\n",
      "  %reload_ext autoreload\n"
     ]
    }
   ],
   "source": [
    "import sys\n",
    "sys.path.insert(0,'/home/emmanuel/projects/2019_sakame/src')\n",
    "\n",
    "import numpy as np\n",
    "import matplotlib.pyplot as plt\n",
    "plt.style.use('ggplot')\n",
    "from data.make_dataset import ToyData\n",
    "from models.gp_demo import DemoGP\n",
    "from models.derivatives import RBFDerivative\n",
    "\n",
    "%load_ext autoreload\n",
    "%autoreload 2\n",
    "%matplotlib inline"
   ]
  },
  {
   "cell_type": "code",
   "execution_count": 6,
   "metadata": {},
   "outputs": [
    {
     "data": {
      "image/png": "[encoded data removed]",
      "text/plain": [
       "<Figure size 432x288 with 1 Axes>"
      ]
     },
     "metadata": {
      "needs_background": "light"
     },
     "output_type": "display_data"
    }
   ],
   "source": [
    "num_points = 500\n",
    "noise = 0.2\n",
    "num_points = 75\n",
    "func = 'poly'\n",
    "degree = 2\n",
    "random_state = 123\n",
    "\n",
    "x = np.linspace(-20, 20, num_points)\n",
    "\n",
    "y = ToyData().regress_f(\n",
    "    x,\n",
    "    func=func,\n",
    "    noise=noise,\n",
    "    degree=degree,\n",
    "    random_state=random_state\n",
    ")\n",
    "\n",
    "fig, ax = plt.subplots()\n",
    "\n",
    "ax.scatter(x, y, color='Black')\n",
    "ax.set_title('Raw Data')\n",
    "plt.show()"
   ]
  },
  {
   "cell_type": "markdown",
   "metadata": {},
   "source": [
    "## RBF Derivative"
   ]
  },
  {
   "cell_type": "markdown",
   "metadata": {},
   "source": [
    "#### Pythonic"
   ]
  },
  {
   "cell_type": "code",
   "execution_count": null,
   "metadata": {},
   "outputs": [],
   "source": [
    "def rbf_derivative(x_train, x_function, weights, kernel_mat,\n",
    "                   n_derivative=1, length_scale=1.0):\n",
    "    \"\"\"This function calculates the rbf derivative\n",
    "    Parameters\n",
    "    ----------\n",
    "    X_train : array, [N x D]\n",
    "\n",
    "    X_test  : array, [M x D]\n",
    "\n",
    "    weights   : array, [N x D]\n",
    "\n",
    "    kernel: array, [N x M]\n",
    "\n",
    "    n_derivative : int, (default = 1) {1, 2}\n",
    "        calculates nth derivative\n",
    "    \n",
    "    gamma : float, default: None\n",
    "\n",
    "    Returns\n",
    "    -------\n",
    "    \n",
    "    derivative : array, [M x D]\n",
    "\n",
    "    Information\n",
    "    -----------\n",
    "    Author: Juan Emmanuel Johnson\n",
    "    Email : jej2744@rit.edu\n",
    "            juan.johnson@uv.es\n",
    "    \"\"\"\n",
    "\n",
    "    # initialize rbf kernel\n",
    "    derivative = np.zeros(np.shape(x_function))\n",
    "\n",
    "    # get all of the parameters\n",
    "    theta = - 1 / length_scale**2\n",
    "\n",
    "    if n_derivative == 1:\n",
    "\n",
    "        # loop through dimensions\n",
    "        for dim in np.arange(0, np.shape(x_function)[1]):\n",
    "\n",
    "            # loop through the number of test points\n",
    "            for iTest in np.arange(0, np.shape(x_function)[0]):\n",
    "\n",
    "                # loop through the number of test points\n",
    "                for iTrain in np.arange(0, np.shape(x_train)[0]):\n",
    "\n",
    "                    derivative[iTest, dim] += theta * weights[iTrain] * \\\n",
    "                                              (x_train[iTrain, dim] -\n",
    "                                               x_function[iTest, dim]) * \\\n",
    "                                              kernel_mat[iTrain, iTest]\n",
    "\n",
    "\n",
    "    elif n_derivative == 2:\n",
    "\n",
    "        # loop through dimensions\n",
    "        for dim in np.arange(0, np.shape(x_function)[1]):\n",
    "\n",
    "            # loop through the number of test points\n",
    "            for iTest in np.arange(0, np.shape(x_function)[0]):\n",
    "\n",
    "                # loop through the number of test points\n",
    "                for iTrain in np.arange(0, np.shape(x_train)[0]):\n",
    "\n",
    "                    derivative[iTest, dim] += weights[iTrain] * \\\n",
    "                                                      (theta**2 *\n",
    "                                                       (x_train[iTrain, dim] - x_function[iTest, dim])**2\n",
    "                                                       - theta) * \\\n",
    "                                                      kernel_mat[iTrain, iTest]\n",
    "\n",
    "\n",
    "    return derivative"
   ]
  },
  {
   "cell_type": "markdown",
   "metadata": {},
   "source": [
    "#### Numba"
   ]
  },
  {
   "cell_type": "code",
   "execution_count": null,
   "metadata": {},
   "outputs": [],
   "source": []
  },
  {
   "cell_type": "markdown",
   "metadata": {},
   "source": [
    "#### Numpy"
   ]
  },
  {
   "cell_type": "code",
   "execution_count": 1,
   "metadata": {},
   "outputs": [],
   "source": [
    "def rbf_derivative(x_train, x_function, K, weights, length_scale=1.0, n_derivative=1):\n",
    "    \"\"\"The Derivative of the RBF kernel. It returns the \n",
    "    derivative as a 2D matrix.\n",
    "    \n",
    "    Parameters\n",
    "    ----------\n",
    "    xtrain : array, (n_train_samples x d_dimensions)\n",
    "    \n",
    "    xtest : array, (ntest_samples, d_dimensions)\n",
    "    \n",
    "    K : array, (ntest_samples, ntrain_samples)\n",
    "    \n",
    "    weights : array, (ntrain_samples)\n",
    "    \n",
    "    length_scale : float, default=1.0\n",
    "    \n",
    "    n_derivatve : int, {1, 2} (default=1)\n",
    "    \n",
    "    Return\n",
    "    ------\n",
    "    \n",
    "    Derivative : array, (n_test, d_dimensions)\n",
    "    \n",
    "    \"\"\"\n",
    "    n_test, n_dims = x_function.shape\n",
    "\n",
    "    derivative = np.zeros(shape=x_function.shape)\n",
    "    \n",
    "    theta = - 1 / length_scale ** 2\n",
    "    \n",
    "    if int(n_derivative) == 1:\n",
    "        \n",
    "        for itest in range(n_test):\n",
    "            t1 = (np.expand_dims(x_function[itest, :], axis=0) - x_train).T\n",
    "            t2 = K[itest, :] * weights.squeeze()\n",
    "            t3 = np.dot(t1, t2)\n",
    "\n",
    "            derivative[itest, :] = t3\n",
    "            \n",
    "    elif int(n_derivative) == 2:\n",
    "        \n",
    "        for itest in range(n_test):\n",
    "            t1 = (np.expand_dims(x_function[itest, :], axis=0) - x_train).T\n",
    "            t1 = theta * (t1**2 - 1)\n",
    "            t2 = K[itest, :] * weights.squeeze()\n",
    "            \n",
    "            derivative[itest, :] = np.dot(t1, t2)\n",
    "            \n",
    "    else:\n",
    "        raise ValueError(f\"Unrecognized n_derivative: {n_derivative}.\")\n",
    "\n",
    "    derivative *= theta\n",
    "\n",
    "    return derivative"
   ]
  },
  {
   "cell_type": "markdown",
   "metadata": {},
   "source": [
    "### Numerical Derivative"
   ]
  },
  {
   "cell_type": "code",
   "execution_count": 7,
   "metadata": {},
   "outputs": [],
   "source": [
    "def df_numerical(X, Y, n_derivative=1):\n",
    "    \"\"\"Simple Numerical derivative\n",
    "    \n",
    "    * 1st Derivatve: Forward Finite Difference Model, \n",
    "                     Backward Endpoint\n",
    "    * 2nd Derivative: Centered Finite Different Model, \n",
    "                      Forward and Backward endpoints\n",
    "    \n",
    "    \n",
    "    Parameters\n",
    "    ----------\n",
    "    X : array (n_samples)\n",
    "    \n",
    "    Y : array (n_samples)\n",
    "    \n",
    "    n_derivative : int, default=1\n",
    "    \n",
    "    Returns\n",
    "    -------\n",
    "    dF : (n_samples)\n",
    "    \n",
    "    \"\"\"\n",
    "    dF = np.zeros(X.shape[0])\n",
    "    if int(n_derivative) == 1:\n",
    "        print(dF[0:-1].shape, Y[1:].shape, Y[0:-1].shape, np.diff(X).shape)\n",
    "        dF[0:-1] = (Y[1:] - Y[0:-1]) / np.diff(X.squeeze())\n",
    "        dF[-1] = (Y[-1] - Y[-2]) / (X[-1] - X[-2])\n",
    "    elif int(n_derivative) == 2:\n",
    "        dF[1:-1] = (Y[2:] - 2*Y[1:-1] + Y[0:-2]) / np.diff(X[:-1].squeeze())**2 \n",
    "        dF[0] = (Y[1] - Y[0]) / (X[1] - X[0])\n",
    "        dF[-1] = (Y[-1] - Y[-2]) / (X[-1] - X[-2])\n",
    "    else:\n",
    "        raise ValueError(f'Unrecognized n_derivative: {n_derivative}')\n",
    "    \n",
    "    \n",
    "    return dF"
   ]
  },
  {
   "cell_type": "code",
   "execution_count": null,
   "metadata": {},
   "outputs": [],
   "source": []
  },
  {
   "cell_type": "markdown",
   "metadata": {},
   "source": []
  }
 ],
 "metadata": {
  "kernelspec": {
   "display_name": "Python 3",
   "language": "python",
   "name": "python3"
  },
  "language_info": {
   "codemirror_mode": {
    "name": "ipython",
    "version": 3
   },
   "file_extension": ".py",
   "mimetype": "text/x-python",
   "name": "python",
   "nbconvert_exporter": "python",
   "pygments_lexer": "ipython3",
   "version": "3.7.2"
  }
 },
 "nbformat": 4,
 "nbformat_minor": 2
}
