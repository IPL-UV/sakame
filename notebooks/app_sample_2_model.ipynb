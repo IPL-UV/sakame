{
 "cells": [
  {
   "cell_type": "code",
   "execution_count": 1,
   "metadata": {},
   "outputs": [],
   "source": [
    "import sys\n",
    "sys.path.insert(0, '/home/emmanuel/code/kernellib')\n",
    "sys.path.insert(0, '/home/emmanuel/code/py_esdc')\n",
    "sys.path.insert(0, '/home/emmanuel/projects/2019_sakame/src/')\n",
    "\n",
    "# from showprogress import showprogress\n",
    "import xarray as xr\n",
    "import numpy as np\n",
    "import pandas as pd\n",
    "import h5py\n",
    "\n",
    "from data.make_dataset import ESDCData\n",
    "from models.esdc_sampling import SamplingModel\n",
    "from models.derivatives import GPRBFDerivative\n",
    "from py_esdc.data import window_xy, get_xy_indices, get_3dgrid\n",
    "from sklearn.model_selection import train_test_split, GridSearchCV\n",
    "from sklearn.metrics import mean_absolute_error, mean_squared_error, r2_score\n",
    "\n",
    "import matplotlib.pyplot as plt\n",
    "plt.style.use('ggplot')\n",
    "import cartopy\n",
    "import cartopy.crs as ccrs\n",
    "%matplotlib inline\n",
    "\n",
    "%load_ext autoreload\n",
    "%autoreload 2"
   ]
  },
  {
   "cell_type": "markdown",
   "metadata": {},
   "source": [
    "### Experiment Variables"
   ]
  },
  {
   "cell_type": "code",
   "execution_count": 10,
   "metadata": {},
   "outputs": [],
   "source": [
    "# variables for the experiment\n",
    "variables = [\n",
    "    'gross_primary_productivity',\n",
    "    'land_surface_temperature',\n",
    "#     'water_mask',\n",
    "#     'country_mask'\n",
    "]\n",
    "\n",
    "window_size = 5\n",
    "start_time = '2010-06'\n",
    "end_time = '2010-06'\n",
    "subsection = 'europe'\n",
    "data_path = '/media/disk/databases/BACI-CABLAB/low_res_data/'\n",
    "minicube_path = '/home/emmanuel/projects/2019_sakame/data/processed/nb_data/'\n",
    "\n",
    "# Initialize data class\n",
    "\n",
    "esdc_data = ESDCData(\n",
    "    variables=variables,\n",
    "    time_frame=[start_time, end_time],\n",
    "    subsection=subsection,\n",
    "    minicube_path=minicube_path\n",
    ")\n"
   ]
  },
  {
   "cell_type": "markdown",
   "metadata": {},
   "source": [
    "## Get MiniCubes"
   ]
  },
  {
   "cell_type": "code",
   "execution_count": 11,
   "metadata": {},
   "outputs": [
    {
     "name": "stdout",
     "output_type": "stream",
     "text": [
      "CPU times: user 1.03 s, sys: 780 ms, total: 1.81 s\n",
      "Wall time: 1.85 s\n"
     ]
    }
   ],
   "source": [
    "%%time\n",
    "\n",
    "save_name = f'nbexp_{window_size}.h5'\n",
    "\n",
    "# Save Minicubes\n",
    "dat = esdc_data.load_minicubes(save_name=save_name)"
   ]
  },
  {
   "cell_type": "code",
   "execution_count": 12,
   "metadata": {},
   "outputs": [],
   "source": [
    "time_stamps = [keys for keys in dat['gross_primary_productivity'].keys()]"
   ]
  },
  {
   "cell_type": "code",
   "execution_count": 13,
   "metadata": {},
   "outputs": [
    {
     "name": "stdout",
     "output_type": "stream",
     "text": [
      "['2010-01-05T00:00:00.000000000', '2010-01-13T00:00:00.000000000', '2010-01-21T00:00:00.000000000', '2010-01-29T00:00:00.000000000', '2010-02-06T00:00:00.000000000', '2010-02-14T00:00:00.000000000', '2010-02-22T00:00:00.000000000', '2010-03-02T00:00:00.000000000', '2010-03-10T00:00:00.000000000', '2010-03-18T00:00:00.000000000', '2010-03-26T00:00:00.000000000', '2010-04-03T00:00:00.000000000', '2010-04-11T00:00:00.000000000', '2010-04-19T00:00:00.000000000', '2010-04-27T00:00:00.000000000', '2010-05-05T00:00:00.000000000', '2010-05-13T00:00:00.000000000', '2010-05-21T00:00:00.000000000', '2010-05-29T00:00:00.000000000', '2010-06-06T00:00:00.000000000', '2010-06-14T00:00:00.000000000', '2010-06-22T00:00:00.000000000', '2010-06-30T00:00:00.000000000', '2010-07-08T00:00:00.000000000', '2010-07-16T00:00:00.000000000', '2010-07-24T00:00:00.000000000', '2010-08-01T00:00:00.000000000', '2010-08-09T00:00:00.000000000', '2010-08-17T00:00:00.000000000', '2010-08-25T00:00:00.000000000', '2010-09-02T00:00:00.000000000', '2010-09-10T00:00:00.000000000', '2010-09-18T00:00:00.000000000', '2010-09-26T00:00:00.000000000', '2010-10-04T00:00:00.000000000', '2010-10-12T00:00:00.000000000', '2010-10-20T00:00:00.000000000', '2010-10-28T00:00:00.000000000', '2010-11-05T00:00:00.000000000', '2010-11-13T00:00:00.000000000', '2010-11-21T00:00:00.000000000', '2010-11-29T00:00:00.000000000', '2010-12-07T00:00:00.000000000', '2010-12-15T00:00:00.000000000', '2010-12-23T00:00:00.000000000', '2010-12-31T00:00:00.000000000']\n"
     ]
    }
   ],
   "source": [
    "print(time_stamps)"
   ]
  },
  {
   "cell_type": "markdown",
   "metadata": {},
   "source": [
    "### Training & Testing"
   ]
  },
  {
   "cell_type": "code",
   "execution_count": 22,
   "metadata": {},
   "outputs": [
    {
     "name": "stderr",
     "output_type": "stream",
     "text": [
      "/home/emmanuel/.conda/envs/sakame/lib/python3.7/site-packages/sklearn/model_selection/_split.py:2179: FutureWarning: From version 0.21, test_size will always complement train_size unless both are specified.\n",
      "  FutureWarning)\n"
     ]
    }
   ],
   "source": [
    "x = dat[variables[1]][time_stamps[0]]['x']\n",
    "y = dat[variables[1]][time_stamps[0]]['y']\n",
    "lat = dat[variables[1]][time_stamps[0]]['lat']\n",
    "lon = dat[variables[1]][time_stamps[0]]['lon']\n",
    "\n",
    "xtrain, xtest, ytrain, ytest = train_test_split(x, y, train_size=2000, random_state=123)"
   ]
  },
  {
   "cell_type": "markdown",
   "metadata": {},
   "source": [
    "## Train GP Model"
   ]
  },
  {
   "cell_type": "code",
   "execution_count": 48,
   "metadata": {},
   "outputs": [
    {
     "name": "stdout",
     "output_type": "stream",
     "text": [
      "CPU times: user 6min 32s, sys: 5.4 s, total: 6min 38s\n",
      "Wall time: 25 s\n"
     ]
    }
   ],
   "source": [
    "%%time\n",
    "sampling_model = SamplingModel()\n",
    "\n",
    "sampling_model.train_model(xtrain, ytrain)"
   ]
  },
  {
   "cell_type": "code",
   "execution_count": 49,
   "metadata": {},
   "outputs": [
    {
     "name": "stdout",
     "output_type": "stream",
     "text": [
      "CPU times: user 3.04 s, sys: 184 ms, total: 3.22 s\n",
      "Wall time: 377 ms\n"
     ]
    }
   ],
   "source": [
    "%%time\n",
    "# Testing\n",
    "ypred = sampling_model.test_model(xtest)"
   ]
  },
  {
   "cell_type": "code",
   "execution_count": 50,
   "metadata": {},
   "outputs": [
    {
     "name": "stdout",
     "output_type": "stream",
     "text": [
      "CPU times: user 29 s, sys: 196 ms, total: 29.2 s\n",
      "Wall time: 1.99 s\n"
     ]
    }
   ],
   "source": [
    "%%time \n",
    "\n",
    "# sensitivity\n",
    "sens_type = 'dim'\n",
    "sens_summary = 'abs'\n",
    "\n",
    "sens_dim = sampling_model.sensitivity(\n",
    "    xtest,\n",
    "    sens=sens_type,\n",
    "    method=sens_summary\n",
    ")"
   ]
  },
  {
   "cell_type": "code",
   "execution_count": 47,
   "metadata": {},
   "outputs": [
    {
     "name": "stdout",
     "output_type": "stream",
     "text": [
      "(11656, 24)\n"
     ]
    }
   ],
   "source": [
    "print(xtest.shape)"
   ]
  },
  {
   "cell_type": "markdown",
   "metadata": {},
   "source": [
    "## Train/Test Statistics"
   ]
  },
  {
   "cell_type": "code",
   "execution_count": 58,
   "metadata": {},
   "outputs": [],
   "source": [
    "results = sampling_model.get_statistics(xtest, ytest)\n"
   ]
  },
  {
   "cell_type": "code",
   "execution_count": 59,
   "metadata": {},
   "outputs": [
    {
     "name": "stdout",
     "output_type": "stream",
     "text": [
      "MAE: 0.9187\n",
      "MSE: 1.7692\n",
      "R2: 0.9842\n",
      "RMSE: 1.3301\n",
      "Sens: 0.0021\n"
     ]
    }
   ],
   "source": [
    "print('MAE: {:.4f}'.format(results['mae']))\n",
    "print('MSE: {:.4f}'.format(results['mse']))\n",
    "print('R2: {:.4f}'.format(results['r2']))\n",
    "print('RMSE: {:.4f}'.format(results['rmse']))\n",
    "print('Sens: {:.4f}'.format(results['sens']))"
   ]
  },
  {
   "cell_type": "markdown",
   "metadata": {},
   "source": [
    "## Save Model"
   ]
  },
  {
   "cell_type": "code",
   "execution_count": 22,
   "metadata": {},
   "outputs": [],
   "source": [
    "# save_name = 'experiment_5.pckl'\n",
    "# print(sampling_model.model)\n",
    "# sampling_model.save_model(save_name)"
   ]
  },
  {
   "cell_type": "markdown",
   "metadata": {},
   "source": [
    "## Load Model"
   ]
  },
  {
   "cell_type": "code",
   "execution_count": 23,
   "metadata": {},
   "outputs": [],
   "source": [
    "# sampling_model.model = None\n",
    "# sampling_model.model"
   ]
  },
  {
   "cell_type": "code",
   "execution_count": 24,
   "metadata": {},
   "outputs": [],
   "source": [
    "# sampling_model.load_model(save_name)\n",
    "# sampling_model.model"
   ]
  },
  {
   "cell_type": "markdown",
   "metadata": {},
   "source": [
    "## Get Plot Data"
   ]
  },
  {
   "cell_type": "code",
   "execution_count": 78,
   "metadata": {},
   "outputs": [],
   "source": [
    "sens_plot = sampling_model.sensitivity(x, sens='point')\n",
    "ypred = sampling_model.test_model(x)\n"
   ]
  },
  {
   "cell_type": "markdown",
   "metadata": {},
   "source": [
    "#### Convert to XArray"
   ]
  },
  {
   "cell_type": "code",
   "execution_count": 7,
   "metadata": {},
   "outputs": [],
   "source": [
    "def get_original_coordinates(variable, start_time, end_time, subsection):\n",
    "    \n",
    "    # Extract original cube\n",
    "    esdc_data = ESDCData(\n",
    "        variables=[variable],\n",
    "        time_frame=[start_time, end_time],\n",
    "        subsection=subsection\n",
    "    )\n",
    "    \n",
    "    # extract plot data\n",
    "    plot_data = esdc_data.extract_datacube()\n",
    "    \n",
    "    # Get original coordinates\n",
    "    xr_lon = plot_data.lon.values\n",
    "    xr_lat = plot_data.lat.values\n",
    "    \n",
    "    return xr_lon, xr_lat"
   ]
  },
  {
   "cell_type": "code",
   "execution_count": 8,
   "metadata": {},
   "outputs": [],
   "source": [
    "def create_xarray(labels, pred, sens, lat, lon, variable, time_stamp, subsection, window_size):\n",
    "    \n",
    "    # Get original coordinates\n",
    "    xr_lon, xr_lat = get_original_coordinates(variable, time_stamp, time_stamp, subsection)\n",
    "    \n",
    "    # create raster data\n",
    "    pred = get_3dgrid(pred, lat, lon, xr_lat, xr_lon)\n",
    "    sens = get_3dgrid(sens, lat, lon, xr_lat, xr_lon)\n",
    "    labels = get_3dgrid(labels, lat, lon, xr_lat, xr_lon)\n",
    "    \n",
    "    # Create Xarray\n",
    "    xr_results = xr.Dataset(\n",
    "        data_vars={\n",
    "            'labels': (['lat', 'lon', 'time', 'window'], labels[..., None, None]),\n",
    "             'sensitivity': (['lat', 'lon', 'time', 'window'], sens[..., None, None]),\n",
    "             'predictions': (['lat', 'lon', 'time', 'window'], pred[..., None, None])},\n",
    "         coords={\n",
    "             'lon': xr_lon,\n",
    "             'lat': xr_lat,\n",
    "             'time': pd.date_range(time_stamps[0], periods=1),\n",
    "             'window': [window_size]},\n",
    "    )\n",
    "    \n",
    "    # Add Mask\n",
    "    # Extract original cube\n",
    "    esdc_data = ESDCData(\n",
    "        variables=['water_mask'],\n",
    "        time_frame=['2001', '2001'],\n",
    "        subsection=subsection\n",
    "    )\n",
    "\n",
    "    # Water Mask\n",
    "    mask_data = esdc_data.extract_datacube().isel(time=0).water_mask\n",
    "\n",
    "    # Add Mask\n",
    "    xr_results.coords['mask'] = (('lat', 'lon'), mask_data)\n",
    "\n",
    "    return xr_results"
   ]
  },
  {
   "cell_type": "code",
   "execution_count": 108,
   "metadata": {},
   "outputs": [
    {
     "data": {
      "text/plain": [
       "<xarray.Dataset>\n",
       "Dimensions:      (lat: 144, lon: 312, time: 1, window: 1)\n",
       "Coordinates:\n",
       "  * lon          (lon) float32 -17.875 -17.625 -17.375 ... 59.375 59.625 59.875\n",
       "  * lat          (lat) float32 71.375 71.125 70.875 ... 36.125 35.875 35.625\n",
       "  * time         (time) datetime64[ns] 2010-06-06\n",
       "  * window       (window) int64 5\n",
       "    mask         (lat, lon) float32 2.0 2.0 2.0 2.0 2.0 ... 1.0 1.0 1.0 1.0 1.0\n",
       "Data variables:\n",
       "    labels       (lat, lon, time, window) float64 nan nan nan ... nan nan nan\n",
       "    sensitivity  (lat, lon, time, window) float64 nan nan nan ... nan nan nan\n",
       "    predictions  (lat, lon, time, window) float64 nan nan nan ... nan nan nan"
      ]
     },
     "execution_count": 108,
     "metadata": {},
     "output_type": "execute_result"
    }
   ],
   "source": [
    "xr_results = create_xarray(y, ypred, sens_plot, lat, lon, \n",
    "                           variables[1], time_stamps[0], subsection, window_size)\n",
    "\n",
    "xr_results"
   ]
  },
  {
   "cell_type": "code",
   "execution_count": 80,
   "metadata": {},
   "outputs": [],
   "source": [
    "# ===========================\n",
    "# Convert to XArray\n",
    "# ===========================\n",
    "\n",
    "xr_lon, xr_lat = get_original_coordinates(variables[1], time_stamps[0], time_stamps[0], subsection)\n",
    "\n",
    "# Create Raster Data\n",
    "predictions = get_3dgrid(ypred, lat, lon, xr_lat, xr_lon)\n",
    "sensitivitiy = get_3dgrid(sens_plot, lat, lon, xr_lat, xr_lon)\n",
    "labels = get_3dgrid(y, lat, lon, xr_lat, xr_lon)"
   ]
  },
  {
   "cell_type": "code",
   "execution_count": 82,
   "metadata": {},
   "outputs": [
    {
     "data": {
      "text/plain": [
       "<xarray.Dataset>\n",
       "Dimensions:      (lat: 144, lon: 312, time: 1, window: 1)\n",
       "Coordinates:\n",
       "  * lon          (lon) float32 -17.875 -17.625 -17.375 ... 59.375 59.625 59.875\n",
       "  * lat          (lat) float32 71.375 71.125 70.875 ... 36.125 35.875 35.625\n",
       "  * time         (time) datetime64[ns] 2010-01-05\n",
       "  * window       (window) int64 5\n",
       "Data variables:\n",
       "    labels       (lat, lon, time, window) float64 nan nan nan ... nan nan nan\n",
       "    sensitivity  (lat, lon, time, window) float64 nan nan nan ... nan nan nan\n",
       "    predictions  (lat, lon, time, window) float64 nan nan nan ... nan nan nan\n",
       "Attributes:\n",
       "    rmse:      1.3301572792572292\n",
       "    mae:       0.9187530847174021\n",
       "    mse:       1.7693183875609941\n",
       "    r2:        0.9847204817637984\n",
       "    variable:  gross_primary_productivity"
      ]
     },
     "execution_count": 82,
     "metadata": {},
     "output_type": "execute_result"
    }
   ],
   "source": [
    "xr_results = xr.Dataset(\n",
    "    data_vars={\n",
    "        'labels': (['lat', 'lon', 'time', 'window'], labels[..., None, None]),\n",
    "         'sensitivity': (['lat', 'lon', 'time', 'window'], sensitivitiy[..., None, None]),\n",
    "         'predictions': (['lat', 'lon', 'time', 'window'], predictions[..., None, None])},\n",
    "     coords={\n",
    "         'lon': xr_lon,\n",
    "         'lat': xr_lat,\n",
    "         'time': pd.date_range(time_stamps[0], periods=1),\n",
    "         'window': [window_size]},\n",
    "    attrs={\n",
    "        'rmse': rmse,\n",
    "        'mae': mae,\n",
    "        'mse': mse,\n",
    "        'r2': r2,\n",
    "        'variable': variable\n",
    "    }\n",
    ")\n",
    "\n",
    "# Add attributes to data\n",
    "xr_results"
   ]
  },
  {
   "cell_type": "code",
   "execution_count": 36,
   "metadata": {},
   "outputs": [],
   "source": [
    "# # select data subset\n",
    "# subset = xr_results.predictions.isel(window=0).isel(time=0)\n",
    "\n",
    "# print(subset)\n",
    "# fig = plt.figure(figsize=(10, 6))\n",
    "\n",
    "# ax = fig.add_subplot(111, projection=ccrs.PlateCarree(), aspect='auto')\n",
    "\n",
    "\n",
    "# p = subset.plot.pcolormesh(\n",
    "#     ax=ax, transform=ccrs.PlateCarree(),\n",
    "#     robust=True, cmap='viridis', vmin=0,\n",
    "# #         cbar_kwargs={'label': subset.gross_primary_productivity.units, \n",
    "# #                      'format': '%.1f'}\n",
    "# )\n",
    "# # cbar = fig.colorbar(p)\n",
    "# ax.coastlines(linewidth=2)\n",
    "# ax.gridlines(draw_labels=True)\n",
    "# ax.text(-0.07, 0.55, 'Latitude', va='bottom', ha='center',\n",
    "#         rotation='vertical', rotation_mode='anchor', fontsize=20,\n",
    "#         transform=ax.transAxes)\n",
    "# ax.text(0.5, -0.15, 'Longitude', va='bottom', ha='center',\n",
    "#         rotation='horizontal', rotation_mode='anchor', fontsize=20,\n",
    "#         transform=ax.transAxes)\n",
    "# plt.tight_layout()\n",
    "# # save_plt_name = f'{variable}_labels_mean_before_{window_size}'\n",
    "# # plt.savefig(figures_path + save_plt_name + '.png')\n",
    "# plt.show()"
   ]
  },
  {
   "cell_type": "markdown",
   "metadata": {},
   "source": [
    "#### Masks"
   ]
  },
  {
   "cell_type": "code",
   "execution_count": 83,
   "metadata": {},
   "outputs": [],
   "source": [
    "# Extract original cube\n",
    "esdc_data = ESDCData(\n",
    "    variables=['water_mask'],\n",
    "    time_frame=['2001', '2001'],\n",
    "    subsection='europe'\n",
    ")\n",
    "\n",
    "# Water Mask\n",
    "mask_data = esdc_data.extract_datacube().isel(time=0).water_mask\n",
    "\n",
    "# Add Mask\n",
    "xr_results.coords['mask'] = (('lat', 'lon'), mask_data)"
   ]
  },
  {
   "cell_type": "code",
   "execution_count": 84,
   "metadata": {},
   "outputs": [
    {
     "name": "stdout",
     "output_type": "stream",
     "text": [
      "<xarray.DataArray (lat: 144, lon: 312)>\n",
      "array([[nan, nan, nan, ..., nan, nan, nan],\n",
      "       [nan, nan, nan, ..., nan, nan, nan],\n",
      "       [nan, nan, nan, ..., nan, nan, nan],\n",
      "       ...,\n",
      "       [nan, nan, nan, ..., nan, nan, nan],\n",
      "       [nan, nan, nan, ..., nan, nan, nan],\n",
      "       [nan, nan, nan, ..., nan, nan, nan]])\n",
      "Coordinates:\n",
      "  * lon      (lon) float32 -17.875 -17.625 -17.375 ... 59.375 59.625 59.875\n",
      "  * lat      (lat) float32 71.375 71.125 70.875 70.625 ... 36.125 35.875 35.625\n",
      "    time     datetime64[ns] 2010-01-05\n",
      "    window   int64 5\n",
      "    mask     (lat, lon) float32 2.0 2.0 2.0 2.0 2.0 2.0 ... 1.0 1.0 1.0 1.0 1.0\n"
     ]
    },
    {
     "name": "stderr",
     "output_type": "stream",
     "text": [
      "/home/emmanuel/.conda/envs/sakame/lib/python3.7/site-packages/matplotlib/tight_layout.py:176: UserWarning: Tight layout not applied. The left and right margins cannot be made large enough to accommodate all axes decorations. \n",
      "  warnings.warn('Tight layout not applied. The left and right margins '\n"
     ]
    },
    {
     "data": {
      "image/png": "[encoded data removed]",
      "text/plain": [
       "<Figure size 720x432 with 2 Axes>"
      ]
     },
     "metadata": {
      "needs_background": "light"
     },
     "output_type": "display_data"
    }
   ],
   "source": [
    "\n",
    "# select data subset\n",
    "subset = xr_results.sensitivity.isel(window=0).isel(time=0).where(xr_results.mask == 1)\n",
    "\n",
    "print(subset)\n",
    "fig = plt.figure(figsize=(10, 6))\n",
    "\n",
    "ax = fig.add_subplot(111, projection=ccrs.PlateCarree(), aspect='auto')\n",
    "\n",
    "\n",
    "p = subset.plot.pcolormesh(\n",
    "    ax=ax, transform=ccrs.PlateCarree(),\n",
    "    robust=True, cmap='viridis', vmin=0,\n",
    "#         cbar_kwargs={'label': subset.gross_primary_productivity.units, \n",
    "#                      'format': '%.1f'}\n",
    ")\n",
    "# cbar = fig.colorbar(p)\n",
    "ax.coastlines(linewidth=2)\n",
    "ax.gridlines(draw_labels=True)\n",
    "ax.text(-0.07, 0.55, 'Latitude', va='bottom', ha='center',\n",
    "        rotation='vertical', rotation_mode='anchor', fontsize=20,\n",
    "        transform=ax.transAxes)\n",
    "ax.text(0.5, -0.15, 'Longitude', va='bottom', ha='center',\n",
    "        rotation='horizontal', rotation_mode='anchor', fontsize=20,\n",
    "        transform=ax.transAxes)\n",
    "plt.tight_layout()\n",
    "# save_plt_name = f'{variable}_labels_mean_before_{window_size}'\n",
    "# plt.savefig(figures_path + save_plt_name + '.png')\n",
    "plt.show()"
   ]
  },
  {
   "cell_type": "markdown",
   "metadata": {},
   "source": [
    "### Save Results"
   ]
  },
  {
   "cell_type": "code",
   "execution_count": 41,
   "metadata": {},
   "outputs": [],
   "source": [
    "save_path = '/home/emmanuel/projects/2019_sakame/data/results/'\n",
    "save_name = f\"experiment_{variable}.nc\"\n",
    "xr_results.to_netcdf(save_path + save_name)"
   ]
  },
  {
   "cell_type": "markdown",
   "metadata": {},
   "source": [
    "### Load Results"
   ]
  },
  {
   "cell_type": "code",
   "execution_count": 42,
   "metadata": {},
   "outputs": [
    {
     "name": "stdout",
     "output_type": "stream",
     "text": [
      "<xarray.Dataset>\n",
      "Dimensions:      (lat: 144, lon: 312, time: 1, window: 1)\n",
      "Coordinates:\n",
      "  * lon          (lon) float32 -17.875 -17.625 -17.375 ... 59.375 59.625 59.875\n",
      "  * lat          (lat) float32 71.375 71.125 70.875 ... 36.125 35.875 35.625\n",
      "  * time         (time) datetime64[ns] 2010-01-05\n",
      "  * window       (window) int64 5\n",
      "    mask         (lat, lon) float32 ...\n",
      "Data variables:\n",
      "    labels       (lat, lon, time, window) float64 ...\n",
      "    sensitivity  (lat, lon, time, window) float64 ...\n",
      "    predictions  (lat, lon, time, window) float64 ...\n",
      "Attributes:\n",
      "    rmse:      1.3301572792572292\n",
      "    mae:       0.9187530847174021\n",
      "    mse:       1.7693183875609941\n",
      "    r2:        0.9847204817637984\n",
      "    variable:  gross_primary_productivity\n"
     ]
    }
   ],
   "source": [
    "with xr.open_dataset(save_path + save_name) as xr_results:\n",
    "    print(xr_results)"
   ]
  },
  {
   "cell_type": "markdown",
   "metadata": {},
   "source": [
    "## Experiment"
   ]
  },
  {
   "cell_type": "code",
   "execution_count": 110,
   "metadata": {},
   "outputs": [
    {
     "name": "stdout",
     "output_type": "stream",
     "text": [
      "Variable: gross_primary_productivity\n",
      "Window: 2\n"
     ]
    },
    {
     "name": "stderr",
     "output_type": "stream",
     "text": [
      "/home/emmanuel/.conda/envs/sakame/lib/python3.7/site-packages/sklearn/model_selection/_split.py:2179: FutureWarning: From version 0.21, test_size will always complement train_size unless both are specified.\n",
      "  FutureWarning)\n"
     ]
    },
    {
     "name": "stdout",
     "output_type": "stream",
     "text": [
      "Time Stamp: 2010-06-06\n",
      "Time Stamp: 2010-06-14\n",
      "Time Stamp: 2010-06-22\n",
      "Time Stamp: 2010-06-30\n",
      "Time Stamp: 2010-07-08\n",
      "Time Stamp: 2010-07-16\n",
      "Time Stamp: 2010-07-24\n",
      "Time Stamp: 2010-08-01\n",
      "Time Stamp: 2010-08-09\n",
      "Time Stamp: 2010-08-17\n",
      "Time Stamp: 2010-08-25\n",
      "Window: 3\n"
     ]
    },
    {
     "name": "stderr",
     "output_type": "stream",
     "text": [
      "/home/emmanuel/.conda/envs/sakame/lib/python3.7/site-packages/sklearn/model_selection/_split.py:2179: FutureWarning: From version 0.21, test_size will always complement train_size unless both are specified.\n",
      "  FutureWarning)\n"
     ]
    },
    {
     "name": "stdout",
     "output_type": "stream",
     "text": [
      "Time Stamp: 2010-06-06\n",
      "Time Stamp: 2010-06-14\n",
      "Time Stamp: 2010-06-22\n",
      "Time Stamp: 2010-06-30\n",
      "Time Stamp: 2010-07-08\n",
      "Time Stamp: 2010-07-16\n",
      "Time Stamp: 2010-07-24\n",
      "Time Stamp: 2010-08-01\n",
      "Time Stamp: 2010-08-09\n",
      "Time Stamp: 2010-08-17\n",
      "Time Stamp: 2010-08-25\n",
      "Window: 4\n"
     ]
    },
    {
     "name": "stderr",
     "output_type": "stream",
     "text": [
      "/home/emmanuel/.conda/envs/sakame/lib/python3.7/site-packages/sklearn/model_selection/_split.py:2179: FutureWarning: From version 0.21, test_size will always complement train_size unless both are specified.\n",
      "  FutureWarning)\n"
     ]
    },
    {
     "name": "stdout",
     "output_type": "stream",
     "text": [
      "Time Stamp: 2010-06-06\n",
      "Time Stamp: 2010-06-14\n",
      "Time Stamp: 2010-06-22\n",
      "Time Stamp: 2010-06-30\n",
      "Time Stamp: 2010-07-08\n",
      "Time Stamp: 2010-07-16\n",
      "Time Stamp: 2010-07-24\n",
      "Time Stamp: 2010-08-01\n",
      "Time Stamp: 2010-08-09\n",
      "Time Stamp: 2010-08-17\n",
      "Time Stamp: 2010-08-25\n",
      "Window: 5\n"
     ]
    },
    {
     "name": "stderr",
     "output_type": "stream",
     "text": [
      "/home/emmanuel/.conda/envs/sakame/lib/python3.7/site-packages/sklearn/model_selection/_split.py:2179: FutureWarning: From version 0.21, test_size will always complement train_size unless both are specified.\n",
      "  FutureWarning)\n"
     ]
    },
    {
     "name": "stdout",
     "output_type": "stream",
     "text": [
      "Time Stamp: 2010-06-06\n",
      "Time Stamp: 2010-06-14\n",
      "Time Stamp: 2010-06-22\n",
      "Time Stamp: 2010-06-30\n",
      "Time Stamp: 2010-07-08\n",
      "Time Stamp: 2010-07-16\n",
      "Time Stamp: 2010-07-24\n",
      "Time Stamp: 2010-08-01\n",
      "Time Stamp: 2010-08-09\n",
      "Time Stamp: 2010-08-17\n",
      "Time Stamp: 2010-08-25\n",
      "Window: 6\n"
     ]
    },
    {
     "name": "stderr",
     "output_type": "stream",
     "text": [
      "/home/emmanuel/.conda/envs/sakame/lib/python3.7/site-packages/sklearn/model_selection/_split.py:2179: FutureWarning: From version 0.21, test_size will always complement train_size unless both are specified.\n",
      "  FutureWarning)\n",
      "/home/emmanuel/.conda/envs/sakame/lib/python3.7/site-packages/sklearn/gaussian_process/gpr.py:480: ConvergenceWarning: fmin_l_bfgs_b terminated abnormally with the  state: {'grad': array([-0.00020076, -0.00015749]), 'task': b'ABNORMAL_TERMINATION_IN_LNSRCH', 'funcalls': 73, 'nit': 15, 'warnflag': 2}\n",
      "  ConvergenceWarning)\n"
     ]
    },
    {
     "name": "stdout",
     "output_type": "stream",
     "text": [
      "Time Stamp: 2010-06-06\n",
      "Time Stamp: 2010-06-14\n",
      "Time Stamp: 2010-06-22\n",
      "Time Stamp: 2010-06-30\n",
      "Time Stamp: 2010-07-08\n",
      "Time Stamp: 2010-07-16\n",
      "Time Stamp: 2010-07-24\n",
      "Time Stamp: 2010-08-01\n",
      "Time Stamp: 2010-08-09\n",
      "Time Stamp: 2010-08-17\n",
      "Time Stamp: 2010-08-25\n",
      "Window: 7\n"
     ]
    },
    {
     "name": "stderr",
     "output_type": "stream",
     "text": [
      "/home/emmanuel/.conda/envs/sakame/lib/python3.7/site-packages/sklearn/model_selection/_split.py:2179: FutureWarning: From version 0.21, test_size will always complement train_size unless both are specified.\n",
      "  FutureWarning)\n"
     ]
    },
    {
     "name": "stdout",
     "output_type": "stream",
     "text": [
      "Time Stamp: 2010-06-06\n",
      "Time Stamp: 2010-06-14\n",
      "Time Stamp: 2010-06-22\n",
      "Time Stamp: 2010-06-30\n",
      "Time Stamp: 2010-07-08\n",
      "Time Stamp: 2010-07-16\n",
      "Time Stamp: 2010-07-24\n",
      "Time Stamp: 2010-08-01\n",
      "Time Stamp: 2010-08-09\n",
      "Time Stamp: 2010-08-17\n",
      "Time Stamp: 2010-08-25\n",
      "Window: 8\n"
     ]
    },
    {
     "name": "stderr",
     "output_type": "stream",
     "text": [
      "/home/emmanuel/.conda/envs/sakame/lib/python3.7/site-packages/sklearn/model_selection/_split.py:2179: FutureWarning: From version 0.21, test_size will always complement train_size unless both are specified.\n",
      "  FutureWarning)\n"
     ]
    },
    {
     "name": "stdout",
     "output_type": "stream",
     "text": [
      "Time Stamp: 2010-06-06\n",
      "Time Stamp: 2010-06-14\n",
      "Time Stamp: 2010-06-22\n",
      "Time Stamp: 2010-06-30\n",
      "Time Stamp: 2010-07-08\n",
      "Time Stamp: 2010-07-16\n",
      "Time Stamp: 2010-07-24\n",
      "Time Stamp: 2010-08-01\n",
      "Time Stamp: 2010-08-09\n",
      "Time Stamp: 2010-08-17\n",
      "Time Stamp: 2010-08-25\n",
      "Window: 9\n"
     ]
    },
    {
     "name": "stderr",
     "output_type": "stream",
     "text": [
      "/home/emmanuel/.conda/envs/sakame/lib/python3.7/site-packages/sklearn/model_selection/_split.py:2179: FutureWarning: From version 0.21, test_size will always complement train_size unless both are specified.\n",
      "  FutureWarning)\n"
     ]
    },
    {
     "name": "stdout",
     "output_type": "stream",
     "text": [
      "Time Stamp: 2010-06-06\n",
      "Time Stamp: 2010-06-14\n",
      "Time Stamp: 2010-06-22\n",
      "Time Stamp: 2010-06-30\n",
      "Time Stamp: 2010-07-08\n",
      "Time Stamp: 2010-07-16\n",
      "Time Stamp: 2010-07-24\n",
      "Time Stamp: 2010-08-01\n",
      "Time Stamp: 2010-08-09\n",
      "Time Stamp: 2010-08-17\n",
      "Time Stamp: 2010-08-25\n",
      "Window: 10\n"
     ]
    },
    {
     "name": "stderr",
     "output_type": "stream",
     "text": [
      "/home/emmanuel/.conda/envs/sakame/lib/python3.7/site-packages/sklearn/model_selection/_split.py:2179: FutureWarning: From version 0.21, test_size will always complement train_size unless both are specified.\n",
      "  FutureWarning)\n"
     ]
    },
    {
     "name": "stdout",
     "output_type": "stream",
     "text": [
      "Time Stamp: 2010-06-06\n",
      "Time Stamp: 2010-06-14\n",
      "Time Stamp: 2010-06-22\n",
      "Time Stamp: 2010-06-30\n",
      "Time Stamp: 2010-07-08\n",
      "Time Stamp: 2010-07-16\n",
      "Time Stamp: 2010-07-24\n",
      "Time Stamp: 2010-08-01\n",
      "Time Stamp: 2010-08-09\n",
      "Time Stamp: 2010-08-17\n",
      "Time Stamp: 2010-08-25\n",
      "Variable: air_temperature_2m\n",
      "Window: 2\n"
     ]
    },
    {
     "name": "stderr",
     "output_type": "stream",
     "text": [
      "/home/emmanuel/.conda/envs/sakame/lib/python3.7/site-packages/sklearn/model_selection/_split.py:2179: FutureWarning: From version 0.21, test_size will always complement train_size unless both are specified.\n",
      "  FutureWarning)\n"
     ]
    },
    {
     "name": "stdout",
     "output_type": "stream",
     "text": [
      "Time Stamp: 2010-06-06\n",
      "Time Stamp: 2010-06-14\n",
      "Time Stamp: 2010-06-22\n",
      "Time Stamp: 2010-06-30\n",
      "Time Stamp: 2010-07-08\n",
      "Time Stamp: 2010-07-16\n",
      "Time Stamp: 2010-07-24\n",
      "Time Stamp: 2010-08-01\n",
      "Time Stamp: 2010-08-09\n",
      "Time Stamp: 2010-08-17\n",
      "Time Stamp: 2010-08-25\n",
      "Window: 3\n"
     ]
    },
    {
     "name": "stderr",
     "output_type": "stream",
     "text": [
      "/home/emmanuel/.conda/envs/sakame/lib/python3.7/site-packages/sklearn/model_selection/_split.py:2179: FutureWarning: From version 0.21, test_size will always complement train_size unless both are specified.\n",
      "  FutureWarning)\n"
     ]
    },
    {
     "name": "stdout",
     "output_type": "stream",
     "text": [
      "Time Stamp: 2010-06-06\n",
      "Time Stamp: 2010-06-14\n",
      "Time Stamp: 2010-06-22\n",
      "Time Stamp: 2010-06-30\n",
      "Time Stamp: 2010-07-08\n",
      "Time Stamp: 2010-07-16\n",
      "Time Stamp: 2010-07-24\n",
      "Time Stamp: 2010-08-01\n",
      "Time Stamp: 2010-08-09\n",
      "Time Stamp: 2010-08-17\n",
      "Time Stamp: 2010-08-25\n",
      "Window: 4\n"
     ]
    },
    {
     "name": "stderr",
     "output_type": "stream",
     "text": [
      "/home/emmanuel/.conda/envs/sakame/lib/python3.7/site-packages/sklearn/model_selection/_split.py:2179: FutureWarning: From version 0.21, test_size will always complement train_size unless both are specified.\n",
      "  FutureWarning)\n",
      "/home/emmanuel/.conda/envs/sakame/lib/python3.7/site-packages/sklearn/gaussian_process/gpr.py:480: ConvergenceWarning: fmin_l_bfgs_b terminated abnormally with the  state: {'grad': array([-5.04838109,  1.68553121]), 'task': b'ABNORMAL_TERMINATION_IN_LNSRCH', 'funcalls': 54, 'nit': 8, 'warnflag': 2}\n",
      "  ConvergenceWarning)\n"
     ]
    },
    {
     "name": "stdout",
     "output_type": "stream",
     "text": [
      "Time Stamp: 2010-06-06\n",
      "Time Stamp: 2010-06-14\n",
      "Time Stamp: 2010-06-22\n",
      "Time Stamp: 2010-06-30\n",
      "Time Stamp: 2010-07-08\n",
      "Time Stamp: 2010-07-16\n",
      "Time Stamp: 2010-07-24\n",
      "Time Stamp: 2010-08-01\n",
      "Time Stamp: 2010-08-09\n",
      "Time Stamp: 2010-08-17\n",
      "Time Stamp: 2010-08-25\n",
      "Window: 5\n"
     ]
    },
    {
     "name": "stderr",
     "output_type": "stream",
     "text": [
      "/home/emmanuel/.conda/envs/sakame/lib/python3.7/site-packages/sklearn/model_selection/_split.py:2179: FutureWarning: From version 0.21, test_size will always complement train_size unless both are specified.\n",
      "  FutureWarning)\n"
     ]
    },
    {
     "name": "stdout",
     "output_type": "stream",
     "text": [
      "Time Stamp: 2010-06-06\n",
      "Time Stamp: 2010-06-14\n",
      "Time Stamp: 2010-06-22\n",
      "Time Stamp: 2010-06-30\n",
      "Time Stamp: 2010-07-08\n",
      "Time Stamp: 2010-07-16\n",
      "Time Stamp: 2010-07-24\n",
      "Time Stamp: 2010-08-01\n",
      "Time Stamp: 2010-08-09\n",
      "Time Stamp: 2010-08-17\n",
      "Time Stamp: 2010-08-25\n",
      "Window: 6\n"
     ]
    },
    {
     "name": "stderr",
     "output_type": "stream",
     "text": [
      "/home/emmanuel/.conda/envs/sakame/lib/python3.7/site-packages/sklearn/model_selection/_split.py:2179: FutureWarning: From version 0.21, test_size will always complement train_size unless both are specified.\n",
      "  FutureWarning)\n"
     ]
    },
    {
     "name": "stdout",
     "output_type": "stream",
     "text": [
      "Time Stamp: 2010-06-06\n",
      "Time Stamp: 2010-06-14\n",
      "Time Stamp: 2010-06-22\n",
      "Time Stamp: 2010-06-30\n",
      "Time Stamp: 2010-07-08\n",
      "Time Stamp: 2010-07-16\n",
      "Time Stamp: 2010-07-24\n",
      "Time Stamp: 2010-08-01\n",
      "Time Stamp: 2010-08-09\n",
      "Time Stamp: 2010-08-17\n",
      "Time Stamp: 2010-08-25\n",
      "Window: 7\n"
     ]
    },
    {
     "name": "stderr",
     "output_type": "stream",
     "text": [
      "/home/emmanuel/.conda/envs/sakame/lib/python3.7/site-packages/sklearn/model_selection/_split.py:2179: FutureWarning: From version 0.21, test_size will always complement train_size unless both are specified.\n",
      "  FutureWarning)\n"
     ]
    },
    {
     "name": "stdout",
     "output_type": "stream",
     "text": [
      "Time Stamp: 2010-06-06\n",
      "Time Stamp: 2010-06-14\n",
      "Time Stamp: 2010-06-22\n",
      "Time Stamp: 2010-06-30\n",
      "Time Stamp: 2010-07-08\n",
      "Time Stamp: 2010-07-16\n",
      "Time Stamp: 2010-07-24\n",
      "Time Stamp: 2010-08-01\n",
      "Time Stamp: 2010-08-09\n",
      "Time Stamp: 2010-08-17\n",
      "Time Stamp: 2010-08-25\n",
      "Window: 8\n"
     ]
    },
    {
     "name": "stderr",
     "output_type": "stream",
     "text": [
      "/home/emmanuel/.conda/envs/sakame/lib/python3.7/site-packages/sklearn/model_selection/_split.py:2179: FutureWarning: From version 0.21, test_size will always complement train_size unless both are specified.\n",
      "  FutureWarning)\n"
     ]
    },
    {
     "name": "stdout",
     "output_type": "stream",
     "text": [
      "Time Stamp: 2010-06-06\n",
      "Time Stamp: 2010-06-14\n",
      "Time Stamp: 2010-06-22\n",
      "Time Stamp: 2010-06-30\n",
      "Time Stamp: 2010-07-08\n",
      "Time Stamp: 2010-07-16\n",
      "Time Stamp: 2010-07-24\n",
      "Time Stamp: 2010-08-01\n",
      "Time Stamp: 2010-08-09\n",
      "Time Stamp: 2010-08-17\n",
      "Time Stamp: 2010-08-25\n",
      "Window: 9\n"
     ]
    },
    {
     "name": "stderr",
     "output_type": "stream",
     "text": [
      "/home/emmanuel/.conda/envs/sakame/lib/python3.7/site-packages/sklearn/model_selection/_split.py:2179: FutureWarning: From version 0.21, test_size will always complement train_size unless both are specified.\n",
      "  FutureWarning)\n"
     ]
    },
    {
     "name": "stdout",
     "output_type": "stream",
     "text": [
      "Time Stamp: 2010-06-06\n",
      "Time Stamp: 2010-06-14\n",
      "Time Stamp: 2010-06-22\n",
      "Time Stamp: 2010-06-30\n",
      "Time Stamp: 2010-07-08\n",
      "Time Stamp: 2010-07-16\n",
      "Time Stamp: 2010-07-24\n",
      "Time Stamp: 2010-08-01\n",
      "Time Stamp: 2010-08-09\n",
      "Time Stamp: 2010-08-17\n",
      "Time Stamp: 2010-08-25\n",
      "Window: 10\n"
     ]
    },
    {
     "name": "stderr",
     "output_type": "stream",
     "text": [
      "/home/emmanuel/.conda/envs/sakame/lib/python3.7/site-packages/sklearn/model_selection/_split.py:2179: FutureWarning: From version 0.21, test_size will always complement train_size unless both are specified.\n",
      "  FutureWarning)\n"
     ]
    },
    {
     "name": "stdout",
     "output_type": "stream",
     "text": [
      "Time Stamp: 2010-06-06\n",
      "Time Stamp: 2010-06-14\n",
      "Time Stamp: 2010-06-22\n",
      "Time Stamp: 2010-06-30\n",
      "Time Stamp: 2010-07-08\n",
      "Time Stamp: 2010-07-16\n",
      "Time Stamp: 2010-07-24\n",
      "Time Stamp: 2010-08-01\n",
      "Time Stamp: 2010-08-09\n",
      "Time Stamp: 2010-08-17\n",
      "Time Stamp: 2010-08-25\n",
      "CPU times: user 12h 37min 7s, sys: 42.3 s, total: 12h 37min 50s\n",
      "Wall time: 1h 43s\n"
     ]
    }
   ],
   "source": [
    "%%time\n",
    "\n",
    "# Experimental Parameters\n",
    "window_sizes = [2, 3, 4, 5, 6, 7, 8, 9 , 10]\n",
    "variables = [\n",
    "#     'land_surface_temperature',\n",
    "    'gross_primary_productivity',\n",
    "    'air_temperature_2m',\n",
    "#     'precipitation',\n",
    "#     'evaporation',\n",
    "#     'soil_moisture',\n",
    "#     'surface_moisture',\n",
    "\n",
    "]\n",
    "save_path = '/home/emmanuel/projects/2019_sakame/data/results/sampling/'\n",
    "minicube_path = '/home/emmanuel/projects/2019_sakame/data/processed/nb_data/'\n",
    "start_time = '2010-06'\n",
    "end_time = '2010-06'\n",
    "summer_times =[\n",
    "    '2010-06-06T00:00:00.000000000', \n",
    "    '2010-06-14T00:00:00.000000000', \n",
    "    '2010-06-22T00:00:00.000000000', \n",
    "    '2010-06-30T00:00:00.000000000', \n",
    "    '2010-07-08T00:00:00.000000000', \n",
    "    '2010-07-16T00:00:00.000000000', \n",
    "    '2010-07-24T00:00:00.000000000', \n",
    "    '2010-08-01T00:00:00.000000000', \n",
    "    '2010-08-09T00:00:00.000000000', \n",
    "    '2010-08-17T00:00:00.000000000', \n",
    "    '2010-08-25T00:00:00.000000000'\n",
    "]\n",
    "train_size = 5000\n",
    "random_state = 123\n",
    "subsection = 'europe'\n",
    "np.random.seed(123)\n",
    "\n",
    "\n",
    "for ivariable in variables:\n",
    "    print(f\"Variable: {ivariable}\")\n",
    "    \n",
    "    window_arrays = list()\n",
    "    results_df = pd.DataFrame()\n",
    "    for iwindow in window_sizes:\n",
    "        print(f\"Window: {iwindow}\")\n",
    "\n",
    "        # Initialize data class\n",
    "\n",
    "        esdc_data = ESDCData(\n",
    "            minicube_path=minicube_path,\n",
    "            variables=[str(ivariable)],\n",
    "            time_frame=[start_time, end_time],\n",
    "            subsection=subsection,\n",
    "        \n",
    "        )\n",
    "        \n",
    "        # load minicubes\n",
    "        save_name = f'nbexp_{iwindow}.h5'\n",
    "        dat = esdc_data.load_minicubes(save_name=save_name)\n",
    "        \n",
    "        # Get Time Stamps\n",
    "        time_stamps = [keys for keys in dat[ivariable].keys()]\n",
    "        \n",
    "        itrain_size = np.int(train_size / len(time_stamps))\n",
    "                \n",
    "        time_arrays = list()\n",
    "        xtrain, ytrain = list(), list()\n",
    "        \n",
    "        # generate a random sequence for each time stamp\n",
    "        rand_nums = np.random.randint(low=0, high=100, size=len(time_stamps))\n",
    "        \n",
    "        # Loop through time stamps\n",
    "        for iteration, itime in enumerate(summer_times):\n",
    "            \n",
    "            \n",
    "            # Extract Data\n",
    "            x = dat[ivariable][itime]['x']\n",
    "            y = dat[ivariable][itime]['y']\n",
    "            \n",
    "            ixtrain, _, iytrain, _ = train_test_split(\n",
    "                x, y, train_size=itrain_size, random_state=rand_nums[iteration]\n",
    "            )\n",
    "            xtrain.append(ixtrain)\n",
    "            ytrain.append(iytrain)\n",
    "            \n",
    "        xtrain = np.vstack((xtrain))\n",
    "        ytrain = np.hstack(ytrain)\n",
    "\n",
    "        # Train GP Model over period\n",
    "        sampling_model = SamplingModel()\n",
    "\n",
    "        sampling_model.train_model(xtrain, ytrain)\n",
    "            \n",
    "        for itime in summer_times:\n",
    "            print(f\"Time Stamp: {itime[:10]}\")\n",
    "            # Extract Data\n",
    "            x = dat[ivariable][itime]['x']\n",
    "            y = dat[ivariable][itime]['y']\n",
    "            lat = dat[ivariable][itime]['lat']\n",
    "            lon = dat[ivariable][itime]['lon']\n",
    "            \n",
    "            # Test Statistics\n",
    "            results = sampling_model.get_statistics(x, y)\n",
    "            \n",
    "            # Append stats to big dataframe\n",
    "            results_df = results_df.append({\n",
    "                'variable': ivariable,\n",
    "                'time': itime,\n",
    "                'window': iwindow,\n",
    "                'mae': results['mae'],\n",
    "                'mse': results['mse'],\n",
    "                'rmse': results['rmse'],\n",
    "                'r2': results['r2'],\n",
    "                'sens': results['sens']\n",
    "            }, ignore_index=True)\n",
    "            \n",
    "            # Get Plot Data\n",
    "            sens_plot = sampling_model.sensitivity(x, sens='point')\n",
    "            ypred = sampling_model.test_model(x)\n",
    "            xr_lon, xr_lat = get_original_coordinates(ivariable, itime, itime, subsection)\n",
    "            \n",
    "            # append created xarray\n",
    "            time_arrays.append(create_xarray(\n",
    "                y, ypred, sens_plot, lat, lon,\n",
    "                ivariable, itime, subsection, iwindow\n",
    "            ))\n",
    "            \n",
    "        # merge time_arrays\n",
    "        window_arrays.append(xr.concat(time_arrays, dim='time'))\n",
    "        \n",
    "    window_arrays = xr.concat(window_arrays, dim='window')\n",
    "    \n",
    "    window_arrays.to_netcdf(save_path + f'sampling_{ivariable}.nc')\n",
    "    results_df.to_csv(save_path + f'sampling_{ivariable}.csv')"
   ]
  },
  {
   "cell_type": "code",
   "execution_count": 104,
   "metadata": {},
   "outputs": [
    {
     "name": "stdout",
     "output_type": "stream",
     "text": [
      "<xarray.Dataset>\n",
      "Dimensions:      (lat: 144, lon: 312, time: 4, window: 6)\n",
      "Coordinates:\n",
      "  * lon          (lon) float32 -17.875 -17.625 -17.375 ... 59.375 59.625 59.875\n",
      "  * lat          (lat) float32 71.375 71.125 70.875 ... 36.125 35.875 35.625\n",
      "    mask         (lat, lon) float32 2.0 2.0 2.0 2.0 2.0 ... 1.0 1.0 1.0 1.0 1.0\n",
      "  * time         (time) datetime64[ns] 2010-01-05 2010-01-05 ... 2010-01-05\n",
      "  * window       (window) int64 2 3 4 5 6 7\n",
      "Data variables:\n",
      "    labels       (lat, lon, time, window) float64 nan nan nan ... nan nan nan\n",
      "    sensitivity  (lat, lon, time, window) float64 nan nan nan ... nan nan nan\n",
      "    predictions  (lat, lon, time, window) float64 nan nan nan ... nan nan nan\n"
     ]
    }
   ],
   "source": [
    "print(window_arrays)"
   ]
  }
 ],
 "metadata": {
  "kernelspec": {
   "display_name": "Python 3",
   "language": "python",
   "name": "python3"
  },
  "language_info": {
   "codemirror_mode": {
    "name": "ipython",
    "version": 3
   },
   "file_extension": ".py",
   "mimetype": "text/x-python",
   "name": "python",
   "nbconvert_exporter": "python",
   "pygments_lexer": "ipython3",
   "version": "3.7.2"
  }
 },
 "nbformat": 4,
 "nbformat_minor": 2
}
