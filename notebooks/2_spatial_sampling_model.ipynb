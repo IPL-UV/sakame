{
 "cells": [
  {
   "cell_type": "code",
   "execution_count": 1,
   "metadata": {},
   "outputs": [],
   "source": [
    "import sys\n",
    "sys.path.insert(0, '/home/emmanuel/code/kernellib')\n",
    "sys.path.insert(0, '/home/emmanuel/code/py_esdc')\n",
    "sys.path.insert(0, '/home/emmanuel/projects/2019_sakame/src/')\n",
    "\n",
    "# from showprogress import showprogress\n",
    "import xarray as xr\n",
    "import numpy as np\n",
    "import pandas as pd\n",
    "import h5py\n",
    "\n",
    "from data.make_dataset import ESDCData\n",
    "from models.esdc_sampling import SamplingModel\n",
    "from models.derivatives import GPRBFDerivative\n",
    "from py_esdc.data import window_xy, get_xy_indices, get_3dgrid\n",
    "from sklearn.model_selection import train_test_split, GridSearchCV\n",
    "from sklearn.metrics import mean_absolute_error, mean_squared_error, r2_score\n",
    "\n",
    "import matplotlib.pyplot as plt\n",
    "import cartopy\n",
    "import cartopy.crs as ccrs\n",
    "%matplotlib inline\n",
    "\n",
    "%load_ext autoreload\n",
    "%autoreload 2"
   ]
  },
  {
   "cell_type": "markdown",
   "metadata": {},
   "source": [
    "### Experiment Variables"
   ]
  },
  {
   "cell_type": "code",
   "execution_count": 2,
   "metadata": {},
   "outputs": [],
   "source": [
    "# variables for the experiment\n",
    "variables = [\n",
    "    'gross_primary_productivity',\n",
    "    'land_surface_temperature',\n",
    "    'water_mask',\n",
    "    'country_mask'\n",
    "]\n",
    "\n",
    "window_size = 5\n",
    "start_time = '2010'\n",
    "end_time = '2010'\n",
    "subsection = 'europe'\n",
    "data_path = '/media/disk/databases/BACI-CABLAB/low_res_data/'\n",
    "minicube_path = '/home/emmanuel/projects/2019_sakame/data/processed/'\n",
    "\n",
    "# Initialize data class\n",
    "\n",
    "esdc_data = ESDCData(\n",
    "    variables=variables,\n",
    "    time_frame=[start_time, end_time],\n",
    "    subsection=subsection\n",
    ")\n",
    "\n",
    "# extract data\n",
    "data = esdc_data.extract_datacube()"
   ]
  },
  {
   "cell_type": "markdown",
   "metadata": {},
   "source": [
    "## Get MiniCubes"
   ]
  },
  {
   "cell_type": "code",
   "execution_count": 3,
   "metadata": {},
   "outputs": [
    {
     "name": "stdout",
     "output_type": "stream",
     "text": [
      "['country_mask', 'gross_primary_productivity', 'land_surface_temperature', 'water_mask']\n",
      "CPU times: user 336 ms, sys: 123 ms, total: 459 ms\n",
      "Wall time: 458 ms\n"
     ]
    }
   ],
   "source": [
    "%%time\n",
    "\n",
    "save_name = 'experiment_5.h5'\n",
    "\n",
    "# Save Minicubes\n",
    "dat = esdc_data.load_minicubes(save_name=save_name)"
   ]
  },
  {
   "cell_type": "code",
   "execution_count": 4,
   "metadata": {},
   "outputs": [],
   "source": [
    "time_stamps = [keys for keys in dat['gross_primary_productivity'].keys()]"
   ]
  },
  {
   "cell_type": "markdown",
   "metadata": {},
   "source": [
    "### Training & Testing"
   ]
  },
  {
   "cell_type": "code",
   "execution_count": 5,
   "metadata": {},
   "outputs": [
    {
     "name": "stderr",
     "output_type": "stream",
     "text": [
      "/home/emmanuel/.conda/envs/sakame/lib/python3.7/site-packages/sklearn/model_selection/_split.py:2179: FutureWarning: From version 0.21, test_size will always complement train_size unless both are specified.\n",
      "  FutureWarning)\n"
     ]
    }
   ],
   "source": [
    "x = dat['gross_primary_productivity']['2010-06-14T00:00:00.000000000']['x']\n",
    "y = dat['gross_primary_productivity']['2010-06-14T00:00:00.000000000']['y']\n",
    "lat = dat['gross_primary_productivity']['2010-06-14T00:00:00.000000000']['lat']\n",
    "lon = dat['gross_primary_productivity']['2010-06-14T00:00:00.000000000']['lon']\n",
    "\n",
    "xtrain, xtest, ytrain, ytest = train_test_split(x, y, train_size=500, random_state=123)"
   ]
  },
  {
   "cell_type": "markdown",
   "metadata": {},
   "source": [
    "## Train GP Model"
   ]
  },
  {
   "cell_type": "code",
   "execution_count": 6,
   "metadata": {},
   "outputs": [
    {
     "name": "stdout",
     "output_type": "stream",
     "text": [
      "CPU times: user 8.58 s, sys: 303 ms, total: 8.89 s\n",
      "Wall time: 590 ms\n"
     ]
    }
   ],
   "source": [
    "%%time\n",
    "sampling_model = SamplingModel()\n",
    "\n",
    "sampling_model.train_model(xtrain, ytrain)"
   ]
  },
  {
   "cell_type": "code",
   "execution_count": 7,
   "metadata": {},
   "outputs": [
    {
     "name": "stdout",
     "output_type": "stream",
     "text": [
      "CPU times: user 2.89 s, sys: 88.2 ms, total: 2.98 s\n",
      "Wall time: 221 ms\n"
     ]
    }
   ],
   "source": [
    "%%time\n",
    "# Testing\n",
    "ypred = sampling_model.test_model(xtest)"
   ]
  },
  {
   "cell_type": "code",
   "execution_count": 8,
   "metadata": {},
   "outputs": [
    {
     "name": "stdout",
     "output_type": "stream",
     "text": [
      "CPU times: user 7.96 s, sys: 67.2 ms, total: 8.03 s\n",
      "Wall time: 1.06 s\n"
     ]
    }
   ],
   "source": [
    "%%time \n",
    "\n",
    "# sensitivity\n",
    "sens_type = 'dim'\n",
    "sens_summary = 'abs'\n",
    "\n",
    "sens_dim = sampling_model.sensitivity(\n",
    "    xtest,\n",
    "    sens=sens_type,\n",
    "    method=sens_summary\n",
    ")"
   ]
  },
  {
   "cell_type": "markdown",
   "metadata": {},
   "source": [
    "### Train/Test Statistics"
   ]
  },
  {
   "cell_type": "code",
   "execution_count": 9,
   "metadata": {},
   "outputs": [],
   "source": [
    "mae = mean_absolute_error(ytest, ypred)\n",
    "mse = mean_squared_error(ytest, ypred)\n",
    "r2 = r2_score(ytest, ypred)\n",
    "rmse = np.sqrt(mse)"
   ]
  },
  {
   "cell_type": "code",
   "execution_count": 10,
   "metadata": {},
   "outputs": [
    {
     "name": "stdout",
     "output_type": "stream",
     "text": [
      "MAE: 0.3852\n",
      "MSE: 0.2982\n",
      "R2: 0.9491\n",
      "RMSE: 0.5461\n",
      "Sensitivity: 1.7263244350079694\n"
     ]
    }
   ],
   "source": [
    "print(f'MAE: {mae:.4f}')\n",
    "print(f'MSE: {mse:.4f}')\n",
    "print(f'R2: {r2:.4f}')\n",
    "print(f'RMSE: {rmse:.4f}')\n",
    "\n",
    "print(f'Sensitivity: {sens_dim.sum()}')"
   ]
  },
  {
   "cell_type": "markdown",
   "metadata": {},
   "source": [
    "## Save Model"
   ]
  },
  {
   "cell_type": "code",
   "execution_count": 11,
   "metadata": {},
   "outputs": [
    {
     "name": "stdout",
     "output_type": "stream",
     "text": [
      "GaussianProcessRegressor(alpha=1e-10, copy_X_train=True,\n",
      "             kernel=RBF(length_scale=1) + WhiteKernel(noise_level=1),\n",
      "             n_restarts_optimizer=1, normalize_y=True,\n",
      "             optimizer='fmin_l_bfgs_b', random_state=None)\n"
     ]
    }
   ],
   "source": [
    "save_name = 'experiment_5.pckl'\n",
    "print(sampling_model.model)\n",
    "sampling_model.save_model(save_name)"
   ]
  },
  {
   "cell_type": "markdown",
   "metadata": {},
   "source": [
    "## Load Model"
   ]
  },
  {
   "cell_type": "code",
   "execution_count": 12,
   "metadata": {},
   "outputs": [],
   "source": [
    "sampling_model.model = None\n",
    "sampling_model.model"
   ]
  },
  {
   "cell_type": "code",
   "execution_count": 13,
   "metadata": {},
   "outputs": [
    {
     "data": {
      "text/plain": [
       "GaussianProcessRegressor(alpha=1e-10, copy_X_train=True,\n",
       "             kernel=RBF(length_scale=1) + WhiteKernel(noise_level=1),\n",
       "             n_restarts_optimizer=1, normalize_y=True,\n",
       "             optimizer='fmin_l_bfgs_b', random_state=None)"
      ]
     },
     "execution_count": 13,
     "metadata": {},
     "output_type": "execute_result"
    }
   ],
   "source": [
    "sampling_model.load_model(save_name)\n",
    "sampling_model.model"
   ]
  },
  {
   "cell_type": "markdown",
   "metadata": {},
   "source": [
    "## Get Plot Data"
   ]
  },
  {
   "cell_type": "code",
   "execution_count": 14,
   "metadata": {},
   "outputs": [],
   "source": [
    "# Data Points\n",
    "variable = 'gross_primary_productivity'\n",
    "time_stamp = '2010-06-14T00:00:00.000000000'\n",
    "X = dat[variable][time_stamp]['x']\n",
    "Y = dat[variable][time_stamp]['y']\n",
    "\n",
    "# Get Predictions and Sensitivity\n",
    "ypred = sampling_model.test_model(X)\n",
    "sens_type = 'point'\n",
    "sens_summary = 'abs'\n",
    "\n",
    "sens = sampling_model.sensitivity(\n",
    "    X,\n",
    "    sens=sens_type,\n",
    "    method=sens_summary\n",
    ")\n",
    "\n",
    "# Actual data points (Y)\n",
    "y = dat[variable][time_stamp]['y']\n",
    "\n",
    "# Coordinates\n",
    "lat = dat[variable][time_stamp]['lat']\n",
    "lon = dat[variable][time_stamp]['lon']\n",
    "\n"
   ]
  },
  {
   "cell_type": "markdown",
   "metadata": {},
   "source": [
    "#### Convert to XArray"
   ]
  },
  {
   "cell_type": "code",
   "execution_count": 15,
   "metadata": {},
   "outputs": [],
   "source": [
    "# ===========================\n",
    "# Convert to XArray\n",
    "# ===========================\n",
    "\n",
    "# Extract original cube\n",
    "esdc_data = ESDCData(\n",
    "    variables=[variable],\n",
    "    time_frame=[time_stamp, time_stamp],\n",
    "    subsection=subsection\n",
    ")\n",
    "\n",
    "# extract data\n",
    "plot_data = esdc_data.extract_datacube()\n",
    "\n",
    "# Get original coordinates\n",
    "xr_lon = plot_data.lon.values\n",
    "xr_lat = plot_data.lat.values\n",
    "\n",
    "# Create Raster Data\n",
    "ypred = get_3dgrid(ypred, lat, lon, xr_lat, xr_lon)\n",
    "sens = get_3dgrid(sens, lat, lon, xr_lat, xr_lon)\n",
    "Y = get_3dgrid(Y, lat, lon, xr_lat, xr_lon)"
   ]
  },
  {
   "cell_type": "code",
   "execution_count": 16,
   "metadata": {},
   "outputs": [
    {
     "data": {
      "text/plain": [
       "<xarray.Dataset>\n",
       "Dimensions:      (lat: 144, lon: 312, time: 1, window: 1)\n",
       "Coordinates:\n",
       "  * lon          (lon) float32 -17.875 -17.625 -17.375 ... 59.375 59.625 59.875\n",
       "  * lat          (lat) float32 71.375 71.125 70.875 ... 36.125 35.875 35.625\n",
       "  * time         (time) datetime64[ns] 2010-06-14\n",
       "  * window       (window) int64 5\n",
       "Data variables:\n",
       "    labels       (lat, lon, time, window) float64 nan nan nan ... nan nan nan\n",
       "    sensitivity  (lat, lon, time, window) float64 nan nan nan ... nan nan nan\n",
       "    predictions  (lat, lon, time, window) float64 nan nan nan ... nan nan nan\n",
       "Attributes:\n",
       "    rmse:      0.5461073373756171\n",
       "    mae:       0.38516333193101304\n",
       "    mse:       0.29823322393548607\n",
       "    r2:        0.9491065974310766\n",
       "    variable:  gross_primary_productivity"
      ]
     },
     "execution_count": 16,
     "metadata": {},
     "output_type": "execute_result"
    }
   ],
   "source": [
    "xr_results = xr.Dataset(\n",
    "    data_vars={\n",
    "        'labels': (['lat', 'lon', 'time', 'window'], Y[..., None, None]),\n",
    "         'sensitivity': (['lat', 'lon', 'time', 'window'], sens[..., None, None]),\n",
    "         'predictions': (['lat', 'lon', 'time', 'window'], ypred[..., None, None])},\n",
    "     coords={\n",
    "         'lon': xr_lon,\n",
    "         'lat': xr_lat,\n",
    "         'time': pd.date_range(time_stamp, periods=1),\n",
    "         'window': [window_size]},\n",
    "    attrs={\n",
    "        'rmse': rmse,\n",
    "        'mae': mae,\n",
    "        'mse': mse,\n",
    "        'r2': r2,\n",
    "        'variable': variable\n",
    "    }\n",
    ")\n",
    "\n",
    "# Add attributes to data\n",
    "xr_results"
   ]
  },
  {
   "cell_type": "markdown",
   "metadata": {},
   "source": [
    "#### Masks"
   ]
  },
  {
   "cell_type": "code",
   "execution_count": 17,
   "metadata": {},
   "outputs": [],
   "source": [
    "# Extract original cube\n",
    "esdc_data = ESDCData(\n",
    "    variables=['water_mask'],\n",
    "    time_frame=['2001', '2001'],\n",
    "    subsection='europe'\n",
    ")\n",
    "\n",
    "# Water Mask\n",
    "mask_data = esdc_data.extract_datacube().isel(time=0).water_mask\n",
    "\n",
    "# Add Mask\n",
    "xr_results.coords['mask'] = (('lat', 'lon'), mask_data)"
   ]
  },
  {
   "cell_type": "markdown",
   "metadata": {},
   "source": [
    "### Save Results"
   ]
  },
  {
   "cell_type": "code",
   "execution_count": 18,
   "metadata": {},
   "outputs": [],
   "source": [
    "save_path = '/home/emmanuel/projects/2019_sakame/data/results/'\n",
    "save_name = f\"experiment_{variable}.nc\"\n",
    "xr_results.to_netcdf(save_path + save_name)"
   ]
  },
  {
   "cell_type": "markdown",
   "metadata": {},
   "source": [
    "### Load Results"
   ]
  },
  {
   "cell_type": "code",
   "execution_count": 19,
   "metadata": {},
   "outputs": [
    {
     "name": "stdout",
     "output_type": "stream",
     "text": [
      "<xarray.Dataset>\n",
      "Dimensions:      (lat: 144, lon: 312, time: 1, window: 1)\n",
      "Coordinates:\n",
      "  * lon          (lon) float32 -17.875 -17.625 -17.375 ... 59.375 59.625 59.875\n",
      "  * lat          (lat) float32 71.375 71.125 70.875 ... 36.125 35.875 35.625\n",
      "  * time         (time) datetime64[ns] 2010-06-14\n",
      "  * window       (window) int64 5\n",
      "    mask         (lat, lon) float32 ...\n",
      "Data variables:\n",
      "    labels       (lat, lon, time, window) float64 ...\n",
      "    sensitivity  (lat, lon, time, window) float64 ...\n",
      "    predictions  (lat, lon, time, window) float64 ...\n",
      "Attributes:\n",
      "    rmse:      0.5461073373756171\n",
      "    mae:       0.38516333193101304\n",
      "    mse:       0.29823322393548607\n",
      "    r2:        0.9491065974310766\n",
      "    variable:  gross_primary_productivity\n"
     ]
    }
   ],
   "source": [
    "with xr.open_dataset(save_path + save_name) as xr_results:\n",
    "    print(xr_results)"
   ]
  },
  {
   "cell_type": "code",
   "execution_count": null,
   "metadata": {},
   "outputs": [],
   "source": []
  }
 ],
 "metadata": {
  "kernelspec": {
   "display_name": "Python 3",
   "language": "python",
   "name": "python3"
  },
  "language_info": {
   "codemirror_mode": {
    "name": "ipython",
    "version": 3
   },
   "file_extension": ".py",
   "mimetype": "text/x-python",
   "name": "python",
   "nbconvert_exporter": "python",
   "pygments_lexer": "ipython3",
   "version": "3.7.2"
  }
 },
 "nbformat": 4,
 "nbformat_minor": 2
}
