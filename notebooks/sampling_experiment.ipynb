{
 "cells": [
  {
   "cell_type": "code",
   "execution_count": 1,
   "metadata": {},
   "outputs": [],
   "source": [
    "import sys\n",
    "sys.path.insert(0, '/home/emmanuel/code/kernellib')\n",
    "sys.path.insert(0, '/home/emmanuel/code/py_esdc')\n",
    "sys.path.insert(0, '/home/emmanuel/projects/2019_sakame/src/')\n",
    "\n",
    "from experiments.sampling import SamplingExp\n",
    "\n",
    "%load_ext autoreload\n",
    "%autoreload 2"
   ]
  },
  {
   "cell_type": "markdown",
   "metadata": {},
   "source": [
    "## Run Sampling Experiment"
   ]
  },
  {
   "cell_type": "code",
   "execution_count": null,
   "metadata": {},
   "outputs": [
    {
     "name": "stdout",
     "output_type": "stream",
     "text": [
      "Extracting minicubes...\n",
      "3\n",
      "No data fitted...extracting datacube\n",
      "5\n",
      "No data fitted...extracting datacube\n",
      "7\n",
      "No data fitted...extracting datacube\n",
      "9\n",
      "No data fitted...extracting datacube\n",
      "11\n",
      "No data fitted...extracting datacube\n",
      "13\n",
      "No data fitted...extracting datacube\n"
     ]
    }
   ],
   "source": [
    "%%time \n",
    "\n",
    "start_time = '2010-06'\n",
    "end_time = '2010-08'\n",
    "num_training = 2000\n",
    "variables = ['land_surface_temperature']\n",
    "window_sizes = [3, 5, 7, 9, 11, 13, 15]\n",
    "save_names = 'lst'\n",
    "sampling_exp = SamplingExp(\n",
    "\n",
    "    window_sizes=window_sizes, \n",
    "    save_names=save_names,\n",
    "    start_time=start_time,\n",
    "    end_time=end_time,\n",
    "    num_training=num_training)\n",
    "\n",
    "sampling_exp.run_experiment(True);"
   ]
  },
  {
   "cell_type": "markdown",
   "metadata": {},
   "source": [
    "### Load Results"
   ]
  },
  {
   "cell_type": "code",
   "execution_count": null,
   "metadata": {},
   "outputs": [],
   "source": []
  }
 ],
 "metadata": {
  "kernelspec": {
   "display_name": "Python 3",
   "language": "python",
   "name": "python3"
  },
  "language_info": {
   "codemirror_mode": {
    "name": "ipython",
    "version": 3
   },
   "file_extension": ".py",
   "mimetype": "text/x-python",
   "name": "python",
   "nbconvert_exporter": "python",
   "pygments_lexer": "ipython3",
   "version": "3.7.2"
  }
 },
 "nbformat": 4,
 "nbformat_minor": 2
}
