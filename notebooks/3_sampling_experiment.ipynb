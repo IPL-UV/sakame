{
 "cells": [
  {
   "cell_type": "code",
   "execution_count": 3,
   "metadata": {},
   "outputs": [
    {
     "name": "stdout",
     "output_type": "stream",
     "text": [
      "The autoreload extension is already loaded. To reload it, use:\n",
      "  %reload_ext autoreload\n"
     ]
    }
   ],
   "source": [
    "import sys\n",
    "sys.path.insert(0, '/home/emmanuel/code/kernellib')\n",
    "sys.path.insert(0, '/home/emmanuel/code/py_esdc')\n",
    "sys.path.insert(0, '/home/emmanuel/projects/2019_sakame/src/')\n",
    "\n",
    "from experiments.sampling import SamplingExp\n",
    "\n",
    "%load_ext autoreload\n",
    "%autoreload 2"
   ]
  },
  {
   "cell_type": "markdown",
   "metadata": {},
   "source": [
    "## Run Sampling Experiment (Land Surface Temperature)"
   ]
  },
  {
   "cell_type": "code",
   "execution_count": 9,
   "metadata": {},
   "outputs": [
    {
     "name": "stdout",
     "output_type": "stream",
     "text": [
      "Extracting minicubes...\n",
      "3\n",
      "No data fitted...extracting datacube\n",
      "/media/disk/databases/BACI-CABLAB/low_res_data/land_surface_temperature\n",
      "Variable: land_surface_temperature\n",
      "Window Size: 3\n",
      "Initialize data class\n",
      "Load minicubes\n",
      "Extract datacube for plots...\n",
      "/media/disk/databases/BACI-CABLAB/low_res_data/land_surface_temperature\n",
      "Time Stamp: 2010-06-06T00:00:00.000000000\n"
     ]
    },
    {
     "name": "stderr",
     "output_type": "stream",
     "text": [
      "/home/emmanuel/.conda/envs/sakame/lib/python3.7/site-packages/sklearn/model_selection/_split.py:2179: FutureWarning: From version 0.21, test_size will always complement train_size unless both are specified.\n",
      "  FutureWarning)\n"
     ]
    },
    {
     "name": "stdout",
     "output_type": "stream",
     "text": [
      "/media/disk/databases/BACI-CABLAB/low_res_data/water_mask\n",
      "CPU times: user 10min 39s, sys: 9.56 s, total: 10min 49s\n",
      "Wall time: 49.7 s\n"
     ]
    }
   ],
   "source": [
    "%%time \n",
    "\n",
    "start_time = '2010-06-06T00:00:00.000000000' #'2010-06'\n",
    "end_time = '2010-06-06T00:00:00.000000000'#'2010-08'\n",
    "num_training = 2000\n",
    "variables = ['land_surface_temperature']\n",
    "window_sizes = [3]  #, 15] #[3, 5, 7, 9, 11, 13, 15]\n",
    "save_names = 'test'\n",
    "sampling_exp = SamplingExp(\n",
    "    variables=variables,\n",
    "    window_sizes=window_sizes, \n",
    "    save_names=save_names,\n",
    "    start_time=start_time,\n",
    "    end_time=end_time,\n",
    "    num_training=num_training)\n",
    "\n",
    "sampling_exp.run_experiment(True);"
   ]
  },
  {
   "cell_type": "markdown",
   "metadata": {},
   "source": [
    "## Run Sampling Experiment (Gross Primary Productivity)"
   ]
  },
  {
   "cell_type": "code",
   "execution_count": null,
   "metadata": {},
   "outputs": [],
   "source": []
  },
  {
   "cell_type": "markdown",
   "metadata": {},
   "source": [
    "### Load Results"
   ]
  },
  {
   "cell_type": "code",
   "execution_count": null,
   "metadata": {},
   "outputs": [],
   "source": [
    "## Run Sampling Experiment (Land Surface Temperature)"
   ]
  }
 ],
 "metadata": {
  "kernelspec": {
   "display_name": "Python 3",
   "language": "python",
   "name": "python3"
  },
  "language_info": {
   "codemirror_mode": {
    "name": "ipython",
    "version": 3
   },
   "file_extension": ".py",
   "mimetype": "text/x-python",
   "name": "python",
   "nbconvert_exporter": "python",
   "pygments_lexer": "ipython3",
   "version": "3.7.2"
  }
 },
 "nbformat": 4,
 "nbformat_minor": 2
}
